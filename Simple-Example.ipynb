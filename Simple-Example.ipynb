{
 "cells": [
  {
   "cell_type": "code",
   "execution_count": null,
   "id": "56e3e2ee-92db-4b95-a315-3f2074eff5aa",
   "metadata": {},
   "outputs": [],
   "source": [
    "from ipyreact_starter import Simple"
   ]
  },
  {
   "cell_type": "code",
   "execution_count": null,
   "id": "e3f639d5-8d83-4b01-a4b7-a9de00dbfccb",
   "metadata": {},
   "outputs": [],
   "source": [
    "Simple()"
   ]
  },
  {
   "cell_type": "code",
   "execution_count": null,
   "id": "5c1adda8-f2f0-4000-8fbe-cb4e129e4285",
   "metadata": {},
   "outputs": [],
   "source": []
  }
 ],
 "metadata": {
  "kernelspec": {
   "display_name": "Python 3 (ipykernel)",
   "language": "python",
   "name": "python3"
  },
  "language_info": {
   "codemirror_mode": {
    "name": "ipython",
    "version": 3
   },
   "file_extension": ".py",
   "mimetype": "text/x-python",
   "name": "python",
   "nbconvert_exporter": "python",
   "pygments_lexer": "ipython3",
   "version": "3.12.7"
  },
  "widgets": {
   "application/vnd.jupyter.widget-state+json": {
    "state": {},
    "version_major": 2,
    "version_minor": 0
   }
  }
 },
 "nbformat": 4,
 "nbformat_minor": 5
}
