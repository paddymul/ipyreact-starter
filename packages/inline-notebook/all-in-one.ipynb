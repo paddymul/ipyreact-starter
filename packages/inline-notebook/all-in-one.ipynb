{
 "cells": [
  {
   "cell_type": "code",
   "execution_count": null,
   "id": "eb4efe68-7268-427e-8f73-14807102c9c5",
   "metadata": {},
   "outputs": [],
   "source": [
    "!rm -rf node_modules  ./ipyreact-tsxlib.pre-bundle.js ./ipyreact-tsxlib.rollup.bundle.js"
   ]
  },
  {
   "cell_type": "code",
   "execution_count": null,
   "id": "1dec80a3-242d-44ba-8ad7-40244f5b00b5",
   "metadata": {},
   "outputs": [],
   "source": [
    "prebundle_bundle_text = \"\"\"\n",
    "\n",
    "export * from \"ipyreact-tsxlib\"\n",
    "\"\"\"\n",
    "open(\"ipyreact-tsxlib.pre-bundle.js\", \"w\").write(prebundle_bundle_text)\n",
    "\n"
   ]
  },
  {
   "cell_type": "code",
   "execution_count": null,
   "id": "f3ce6efa-b4b7-44f5-a9f5-57a5f6ac4925",
   "metadata": {},
   "outputs": [],
   "source": [
    "!npm install --save-dev rollup @rollup/plugin-replace @rollup/plugin-commonjs @rollup/plugin-node-resolve esbuild"
   ]
  },
  {
   "cell_type": "code",
   "execution_count": null,
   "id": "cfd0942d-2b47-4375-960f-2b94192b7af0",
   "metadata": {},
   "outputs": [],
   "source": [
    "rollup_config = \"\"\"\n",
    "// rollup.config.mjs\n",
    "import { nodeResolve } from '@rollup/plugin-node-resolve';\n",
    "import commonjs from '@rollup/plugin-commonjs';\n",
    "import replace from '@rollup/plugin-replace';\n",
    "\n",
    "export default {\n",
    "\tinput: './ipyreact-tsxlib.pre-bundle.js',\n",
    "\toutput: [\n",
    "\t\t{\n",
    "\t\t\tfile: 'ipyreact-tsxlib.rollup.bundle.js',\n",
    "\t\t\tinlineDynamicImports: true,\n",
    "\t\t\tformat: 'es'\n",
    "\t\t}\n",
    "\t],\n",
    "\texternal: [\"react\", \"react-dom\", \"react-reconciler\", \"react-reconciler/constant\"],\n",
    "\tplugins: [\n",
    "\t\treplace({\n",
    "\t\t\t'process.env.NODE_ENV': JSON.stringify('production')\n",
    "\t\t}),\n",
    "\t\tnodeResolve({\n",
    "\t\t\tbrowser: true,\n",
    "\t\t}),\n",
    "\t\tcommonjs({\n",
    "\t\t\tnamedExports: {\n",
    "\t\t\t\tscheduler: [\n",
    "\t\t\t\t\t'unstable_runWithPriority',\n",
    "\t\t\t\t\t'unstable_IdlePriority',\n",
    "\t\t\t\t\t'unstable_now',\n",
    "\t\t\t\t\t'unstable_scheduleCallback',\n",
    "\t\t\t\t\t'unstable_cancelCallback',\n",
    "\t\t\t\t],\n",
    "\t\t\t}\n",
    "\t\t})\n",
    "\t],\n",
    "};\"\"\"\n",
    "open(\"rollup.config.mjs\", \"w\").write(rollup_config)"
   ]
  },
  {
   "cell_type": "code",
   "execution_count": null,
   "id": "4e4d1b30-583c-473c-adcb-4f8cfa7099d0",
   "metadata": {},
   "outputs": [],
   "source": [
    "!npm install ../ipyreact-tsxlib/"
   ]
  },
  {
   "cell_type": "code",
   "execution_count": null,
   "id": "474d8c7f-5e6d-496f-b144-49b001eda095",
   "metadata": {},
   "outputs": [],
   "source": [
    "!npx rollup -c rollup.config.mjs  "
   ]
  },
  {
   "cell_type": "code",
   "execution_count": null,
   "id": "ff38b423-462b-4d54-9190-5c737def9ba0",
   "metadata": {},
   "outputs": [],
   "source": [
    "import ipyreact\n",
    "from pathlib import Path\n",
    "ipyreact.define_module(\"ipyreact-tsxlib\", Path(\"./ipyreact-tsxlib.rollup.bundle.js\"))\n",
    "\n"
   ]
  },
  {
   "cell_type": "code",
   "execution_count": null,
   "id": "1f0b8324-4667-43d0-be83-21de29a1b4b7",
   "metadata": {},
   "outputs": [],
   "source": [
    "class Simple(ipyreact.ValueWidget):\n",
    "    #_module=\"ipyreact-tsxlib\"\n",
    "    _esm=\"\"\"\n",
    "    import confetti from \"canvas-confetti\";\n",
    "    import * as React from \"react\";\n",
    "    import SampleButton from \"ipyreact-tsxlib\";\n",
    "    \n",
    "    export default function({value, setValue}) {\n",
    "        return (<div>\n",
    "\n",
    "\n",
    "            <SampleButton />\n",
    "            <button onClick={() => confetti() && setValue(value + 1)}>\n",
    "            {value || 0} times confetti\n",
    "        </button>\n",
    "    </div>);\n",
    "    };\n",
    "    \"\"\"\n"
   ]
  },
  {
   "cell_type": "code",
   "execution_count": null,
   "id": "5236f65b-c4ad-4afa-9d95-63e56f7083fc",
   "metadata": {},
   "outputs": [],
   "source": [
    "Simple()"
   ]
  },
  {
   "cell_type": "code",
   "execution_count": null,
   "id": "5565cd2d-a726-4367-838f-38bbad5693a8",
   "metadata": {},
   "outputs": [],
   "source": []
  }
 ],
 "metadata": {
  "kernelspec": {
   "display_name": "Python 3 (ipykernel)",
   "language": "python",
   "name": "python3"
  },
  "language_info": {
   "codemirror_mode": {
    "name": "ipython",
    "version": 3
   },
   "file_extension": ".py",
   "mimetype": "text/x-python",
   "name": "python",
   "nbconvert_exporter": "python",
   "pygments_lexer": "ipython3",
   "version": "3.12.7"
  },
  "widgets": {
   "application/vnd.jupyter.widget-state+json": {
    "state": {},
    "version_major": 2,
    "version_minor": 0
   }
  }
 },
 "nbformat": 4,
 "nbformat_minor": 5
}
